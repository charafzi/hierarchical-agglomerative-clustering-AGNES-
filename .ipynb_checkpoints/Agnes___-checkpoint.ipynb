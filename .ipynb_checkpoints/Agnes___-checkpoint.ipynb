{
 "cells": [
  {
   "cell_type": "code",
   "execution_count": 17,
   "id": "03bfecce-3eb3-489e-9c0d-ed75fad29b62",
   "metadata": {
    "tags": []
   },
   "outputs": [],
   "source": [
    "import numpy as np\n",
    "import pandas as pd"
   ]
  },
  {
   "cell_type": "code",
   "execution_count": 22,
   "id": "5f242469-ef10-4d25-bd12-55a513a709fb",
   "metadata": {
    "tags": []
   },
   "outputs": [],
   "source": [
    "def dist_euclidienne(x1, x2):\n",
    "    return np.sqrt(np.sum((x1 - x2) ** 2))"
   ]
  },
  {
   "cell_type": "code",
   "execution_count": 18,
   "id": "ca9f1c88-6b0b-42bb-8b9d-a492671031a2",
   "metadata": {
    "tags": []
   },
   "outputs": [],
   "source": [
    "data = pd.read_csv(\"dataAgnes.csv\", index_col=0)"
   ]
  },
  {
   "cell_type": "code",
   "execution_count": null,
   "id": "30d015f9-6df0-4001-a129-49badec18e52",
   "metadata": {},
   "outputs": [],
   "source": [
    "X = data.values"
   ]
  },
  {
   "cell_type": "code",
   "execution_count": 20,
   "id": "56948d81-b116-47ab-a617-c6e188c43418",
   "metadata": {
    "tags": []
   },
   "outputs": [
    {
     "data": {
      "text/plain": [
       "array([[12, 13],\n",
       "       [15, 17],\n",
       "       [16, 20],\n",
       "       [10, 11],\n",
       "       [14, 16]], dtype=int64)"
      ]
     },
     "execution_count": 20,
     "metadata": {},
     "output_type": "execute_result"
    }
   ],
   "source": [
    "X"
   ]
  },
  {
   "cell_type": "code",
   "execution_count": 23,
   "id": "8ba950c7-8c9d-4ac0-bbf4-38d22d0682af",
   "metadata": {
    "tags": []
   },
   "outputs": [],
   "source": [
    "class Agnes:\n",
    "    def __init__(self, n_clusters=2):\n",
    "        self.n_clusters = n_clusters\n",
    "\n",
    "    def fit(self, X):\n",
    "        n_samples, n_features = X.shape\n",
    "        \n",
    "        # initialisation : chaque point est un cluster\n",
    "        clusters = [[i] for i in range(n_samples)]\n",
    "\n",
    "        #distance euclidienne entre chaque paire de clusters\n",
    "        distances = np.zeros((n_samples, n_samples))\n",
    "        for i in range(n_samples):\n",
    "            for j in range(i+1, n_samples):\n",
    "                distances[i][j] = dist_euclidienne(X[i], X[j])\n",
    "                distances[j][i] = distances[i][j]\n",
    "        \n",
    "        # fusionner jusqu'à jusqu'à ce qu'il reste le nombre désiré passé en paramètre\n",
    "        while len(clusters) > self.n_clusters:\n",
    "            #trouver les indices des deux clusters les plus proches\n",
    "            min_distance = np.min(distances[np.nonzero(distances)])\n",
    "            min_indices = np.where(distances == min_distance)\n",
    "            idx1, idx2 = min_indices[0][0], min_indices[1][0]\n",
    "\n",
    "            #fusionner les deux clusters\n",
    "            clusters[idx1] += clusters[idx2]\n",
    "            del clusters[idx2]\n",
    "\n",
    "            #mettre à jour les distances entre les nouveaux clusters fusionnés et les autres clusters\n",
    "            for i in range(len(clusters)):\n",
    "                if i != idx1:\n",
    "                    avg_dist = np.mean([distances[idx1][j] for j in clusters[i]])\n",
    "                    distances[idx1][i] = avg_dist\n",
    "                    distances[i][idx1] = avg_dist\n",
    "            \n",
    "            #marquer les distances des clusters fusionnés comme infinies\n",
    "            distances[idx2] = np.inf\n",
    "            distances[:, idx2] = np.inf\n",
    "\n",
    "        #assigner les étiquettes de cluster à chaque échantillon\n",
    "        labels = np.zeros(n_samples)\n",
    "        for i, cluster in enumerate(clusters):\n",
    "            for idx in cluster:\n",
    "                labels[idx] = i\n",
    "\n",
    "        self.labels_ = labels.astype(int)\n"
   ]
  },
  {
   "cell_type": "code",
   "execution_count": 38,
   "id": "267709d5-a06b-4344-9957-27c58e40e9bd",
   "metadata": {
    "tags": []
   },
   "outputs": [
    {
     "name": "stdout",
     "output_type": "stream",
     "text": [
      "Groupe 1: e1, e4\n",
      "Groupe 2: e2, e3, e5\n"
     ]
    }
   ],
   "source": [
    "test = Agnes(n_clusters=2)\n",
    "\n",
    "test.fit(X)\n",
    "\n",
    "\n",
    "etudiants = {}\n",
    "\n",
    "for etd, etiq in zip(data.index, model.labels_):\n",
    "    groupe = etiq + 1\n",
    "    if groupe not in etudiants:\n",
    "        etudiants[groupe] = []\n",
    "    etudiants[groupe].append(etd)\n",
    "\n",
    "for groupe, etud in etudiants.items():\n",
    "    etudiantliste = ', '.join(etud)\n",
    "    print(f\"Groupe {groupe}: {etudiantliste}\")"
   ]
  },
  {
   "cell_type": "code",
   "execution_count": null,
   "id": "bd8b1963-be10-4717-abdb-099e5a18ebec",
   "metadata": {
    "tags": []
   },
   "outputs": [],
   "source": []
  },
  {
   "cell_type": "code",
   "execution_count": null,
   "id": "29b56b0e-c435-40db-b027-c2068b5f23e1",
   "metadata": {},
   "outputs": [],
   "source": []
  },
  {
   "cell_type": "code",
   "execution_count": null,
   "id": "f1872d7e-285f-4000-9720-9c4edb8f2a51",
   "metadata": {},
   "outputs": [],
   "source": []
  }
 ],
 "metadata": {
  "kernelspec": {
   "display_name": "Python 3 (ipykernel)",
   "language": "python",
   "name": "python3"
  },
  "language_info": {
   "codemirror_mode": {
    "name": "ipython",
    "version": 3
   },
   "file_extension": ".py",
   "mimetype": "text/x-python",
   "name": "python",
   "nbconvert_exporter": "python",
   "pygments_lexer": "ipython3",
   "version": "3.11.5"
  }
 },
 "nbformat": 4,
 "nbformat_minor": 5
}
