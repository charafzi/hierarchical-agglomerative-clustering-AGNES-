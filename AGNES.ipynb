{
 "cells": [
  {
   "cell_type": "code",
   "execution_count": 20,
   "id": "cf1990a2-5fd0-42cd-ba6b-692d94902b4c",
   "metadata": {
    "tags": []
   },
   "outputs": [],
   "source": [
    "from package import *"
   ]
  },
  {
   "cell_type": "code",
   "execution_count": 21,
   "id": "c74c74ae-fc8e-4bc0-a8f3-5290d81b0805",
   "metadata": {
    "tags": []
   },
   "outputs": [],
   "source": [
    "import pandas as pd"
   ]
  },
  {
   "cell_type": "code",
   "execution_count": 22,
   "id": "f909e7a0-7f32-4aed-9de4-0694dc0efaf4",
   "metadata": {
    "tags": []
   },
   "outputs": [],
   "source": [
    "import numpy as np"
   ]
  },
  {
   "cell_type": "code",
   "execution_count": 23,
   "id": "13c192ac-a521-4926-9717-dfa8ca2f2a00",
   "metadata": {
    "tags": []
   },
   "outputs": [],
   "source": [
    "data = pd.read_csv('data.csv',index_col=0)\n"
   ]
  },
  {
   "cell_type": "code",
   "execution_count": 24,
   "id": "3bc3ee00-c1ff-4d0d-8082-4d736fcf8dc6",
   "metadata": {
    "tags": []
   },
   "outputs": [],
   "source": [
    "df = pd.DataFrame(data)"
   ]
  },
  {
   "cell_type": "code",
   "execution_count": 25,
   "id": "00177c8d-056b-4505-b94f-98366d901625",
   "metadata": {
    "tags": []
   },
   "outputs": [
    {
     "data": {
      "text/html": [
       "<div>\n",
       "<style scoped>\n",
       "    .dataframe tbody tr th:only-of-type {\n",
       "        vertical-align: middle;\n",
       "    }\n",
       "\n",
       "    .dataframe tbody tr th {\n",
       "        vertical-align: top;\n",
       "    }\n",
       "\n",
       "    .dataframe thead th {\n",
       "        text-align: right;\n",
       "    }\n",
       "</style>\n",
       "<table border=\"1\" class=\"dataframe\">\n",
       "  <thead>\n",
       "    <tr style=\"text-align: right;\">\n",
       "      <th></th>\n",
       "      <th>note1</th>\n",
       "      <th>note2</th>\n",
       "    </tr>\n",
       "  </thead>\n",
       "  <tbody>\n",
       "    <tr>\n",
       "      <th>e1</th>\n",
       "      <td>12</td>\n",
       "      <td>13</td>\n",
       "    </tr>\n",
       "    <tr>\n",
       "      <th>e2</th>\n",
       "      <td>15</td>\n",
       "      <td>17</td>\n",
       "    </tr>\n",
       "    <tr>\n",
       "      <th>e3</th>\n",
       "      <td>16</td>\n",
       "      <td>20</td>\n",
       "    </tr>\n",
       "    <tr>\n",
       "      <th>e4</th>\n",
       "      <td>10</td>\n",
       "      <td>11</td>\n",
       "    </tr>\n",
       "    <tr>\n",
       "      <th>e5</th>\n",
       "      <td>14</td>\n",
       "      <td>16</td>\n",
       "    </tr>\n",
       "  </tbody>\n",
       "</table>\n",
       "</div>"
      ],
      "text/plain": [
       "    note1  note2\n",
       "e1     12     13\n",
       "e2     15     17\n",
       "e3     16     20\n",
       "e4     10     11\n",
       "e5     14     16"
      ]
     },
     "execution_count": 25,
     "metadata": {},
     "output_type": "execute_result"
    }
   ],
   "source": [
    "df"
   ]
  },
  {
   "cell_type": "code",
   "execution_count": 31,
   "id": "a43e4743-1c0f-42f9-9a52-c6127457f5dd",
   "metadata": {
    "tags": []
   },
   "outputs": [],
   "source": [
    "def agnes(df, nbclusters = 1):\n",
    "    colonnes = df.columns.tolist() #labels des colonnes\n",
    "    lignes = df.index.tolist()     #labels des lignes\n",
    "    \n",
    "    #normaliser la dataset\n",
    "    df = normaliser(df)\n",
    "    \n",
    "    # création et initialisation de la matrice\n",
    "    matrice = pd.DataFrame(index=lignes, columns=lignes)\n",
    "    initialiser_matrice(matrice, df) \n",
    "    afficher_matrice(matrice)\n",
    "\n",
    "    while len(matrice) > nbclusters :\n",
    "        i,j=indexMin(matrice)\n",
    "        #récupérer les éléments les plus proches\n",
    "        g1=matrice.columns[j] \n",
    "        g2=matrice.columns[i]\n",
    "        supp= \"\"+matrice.columns[i] #élément à enlever de la matrice\n",
    "        nv_etiq = g1+\"-\"+g2\n",
    "        #recalculer la matrice\n",
    "        for k in range(0,len(matrice)):\n",
    "            minimum = min(matrice.iloc[k, j],matrice.iloc[k, i])\n",
    "            matrice.iloc[k, j] = minimum\n",
    "            matrice.iloc[j, k] = minimum\n",
    "        #supprimer l'élément de la colonne et la ligne\n",
    "        matrice.drop(g2, axis=1, inplace=True) \n",
    "        matrice.drop(g2, inplace=True)\n",
    "        matrice.rename(columns={g1: nv_etiq}, inplace=True)\n",
    "        matrice.rename(index={g1: nv_etiq}, inplace=True)\n",
    "        afficher_matrice(matrice)"
   ]
  },
  {
   "cell_type": "code",
   "execution_count": 32,
   "id": "6401eb61-ba47-4ba4-aaaf-0021724d337e",
   "metadata": {
    "tags": []
   },
   "outputs": [
    {
     "data": {
      "text/html": [
       "<style type=\"text/css\">\n",
       "#T_f2f1d th {\n",
       "  background-color: #ced4da;\n",
       "}\n",
       "#T_f2f1d td:first-child {\n",
       "  background-color: #ced4da;\n",
       "}\n",
       "#T_f2f1d_row0_col0, #T_f2f1d_row0_col1, #T_f2f1d_row0_col2, #T_f2f1d_row0_col3, #T_f2f1d_row0_col4, #T_f2f1d_row1_col0, #T_f2f1d_row1_col1, #T_f2f1d_row1_col2, #T_f2f1d_row1_col3, #T_f2f1d_row1_col4, #T_f2f1d_row2_col0, #T_f2f1d_row2_col1, #T_f2f1d_row2_col2, #T_f2f1d_row2_col3, #T_f2f1d_row2_col4, #T_f2f1d_row3_col0, #T_f2f1d_row3_col1, #T_f2f1d_row3_col2, #T_f2f1d_row3_col3, #T_f2f1d_row3_col4, #T_f2f1d_row4_col0, #T_f2f1d_row4_col1, #T_f2f1d_row4_col2, #T_f2f1d_row4_col3, #T_f2f1d_row4_col4 {\n",
       "  text-align: center;\n",
       "  font-size: 11px;\n",
       "}\n",
       "</style>\n",
       "<table id=\"T_f2f1d\" border=\"1\">\n",
       "  <caption>Matrice des distances</caption>\n",
       "  <thead>\n",
       "    <tr>\n",
       "      <th class=\"blank level0\" >&nbsp;</th>\n",
       "      <th id=\"T_f2f1d_level0_col0\" class=\"col_heading level0 col0\" >e1</th>\n",
       "      <th id=\"T_f2f1d_level0_col1\" class=\"col_heading level0 col1\" >e2</th>\n",
       "      <th id=\"T_f2f1d_level0_col2\" class=\"col_heading level0 col2\" >e3</th>\n",
       "      <th id=\"T_f2f1d_level0_col3\" class=\"col_heading level0 col3\" >e4</th>\n",
       "      <th id=\"T_f2f1d_level0_col4\" class=\"col_heading level0 col4\" >e5</th>\n",
       "    </tr>\n",
       "  </thead>\n",
       "  <tbody>\n",
       "    <tr>\n",
       "      <th id=\"T_f2f1d_level0_row0\" class=\"row_heading level0 row0\" >e1</th>\n",
       "      <td id=\"T_f2f1d_row0_col0\" class=\"data row0 col0\" >0.000000</td>\n",
       "      <td id=\"T_f2f1d_row0_col1\" class=\"data row0 col1\" >0.668977</td>\n",
       "      <td id=\"T_f2f1d_row0_col2\" class=\"data row0 col2\" >1.024394</td>\n",
       "      <td id=\"T_f2f1d_row0_col3\" class=\"data row0 col3\" >0.400617</td>\n",
       "      <td id=\"T_f2f1d_row0_col4\" class=\"data row0 col4\" >0.471405</td>\n",
       "    </tr>\n",
       "    <tr>\n",
       "      <th id=\"T_f2f1d_level0_row1\" class=\"row_heading level0 row1\" >e2</th>\n",
       "      <td id=\"T_f2f1d_row1_col0\" class=\"data row1 col0\" >0.668977</td>\n",
       "      <td id=\"T_f2f1d_row1_col1\" class=\"data row1 col1\" >0.000000</td>\n",
       "      <td id=\"T_f2f1d_row1_col2\" class=\"data row1 col2\" >0.372678</td>\n",
       "      <td id=\"T_f2f1d_row1_col3\" class=\"data row1 col3\" >1.067187</td>\n",
       "      <td id=\"T_f2f1d_row1_col4\" class=\"data row1 col4\" >0.200308</td>\n",
       "    </tr>\n",
       "    <tr>\n",
       "      <th id=\"T_f2f1d_level0_row2\" class=\"row_heading level0 row2\" >e3</th>\n",
       "      <td id=\"T_f2f1d_row2_col0\" class=\"data row2 col0\" >1.024394</td>\n",
       "      <td id=\"T_f2f1d_row2_col1\" class=\"data row2 col1\" >0.372678</td>\n",
       "      <td id=\"T_f2f1d_row2_col2\" class=\"data row2 col2\" >0.000000</td>\n",
       "      <td id=\"T_f2f1d_row2_col3\" class=\"data row2 col3\" >1.414214</td>\n",
       "      <td id=\"T_f2f1d_row2_col4\" class=\"data row2 col4\" >0.555556</td>\n",
       "    </tr>\n",
       "    <tr>\n",
       "      <th id=\"T_f2f1d_level0_row3\" class=\"row_heading level0 row3\" >e4</th>\n",
       "      <td id=\"T_f2f1d_row3_col0\" class=\"data row3 col0\" >0.400617</td>\n",
       "      <td id=\"T_f2f1d_row3_col1\" class=\"data row3 col1\" >1.067187</td>\n",
       "      <td id=\"T_f2f1d_row3_col2\" class=\"data row3 col2\" >1.414214</td>\n",
       "      <td id=\"T_f2f1d_row3_col3\" class=\"data row3 col3\" >0.000000</td>\n",
       "      <td id=\"T_f2f1d_row3_col4\" class=\"data row3 col4\" >0.867806</td>\n",
       "    </tr>\n",
       "    <tr>\n",
       "      <th id=\"T_f2f1d_level0_row4\" class=\"row_heading level0 row4\" >e5</th>\n",
       "      <td id=\"T_f2f1d_row4_col0\" class=\"data row4 col0\" >0.471405</td>\n",
       "      <td id=\"T_f2f1d_row4_col1\" class=\"data row4 col1\" >0.200308</td>\n",
       "      <td id=\"T_f2f1d_row4_col2\" class=\"data row4 col2\" >0.555556</td>\n",
       "      <td id=\"T_f2f1d_row4_col3\" class=\"data row4 col3\" >0.867806</td>\n",
       "      <td id=\"T_f2f1d_row4_col4\" class=\"data row4 col4\" >0.000000</td>\n",
       "    </tr>\n",
       "  </tbody>\n",
       "</table>\n"
      ],
      "text/plain": [
       "<pandas.io.formats.style.Styler at 0x247d64719d0>"
      ]
     },
     "metadata": {},
     "output_type": "display_data"
    },
    {
     "data": {
      "text/html": [
       "<style type=\"text/css\">\n",
       "#T_6f5f2 th {\n",
       "  background-color: #ced4da;\n",
       "}\n",
       "#T_6f5f2 td:first-child {\n",
       "  background-color: #ced4da;\n",
       "}\n",
       "#T_6f5f2_row0_col0, #T_6f5f2_row0_col1, #T_6f5f2_row0_col2, #T_6f5f2_row0_col3, #T_6f5f2_row1_col0, #T_6f5f2_row1_col1, #T_6f5f2_row1_col2, #T_6f5f2_row1_col3, #T_6f5f2_row2_col0, #T_6f5f2_row2_col1, #T_6f5f2_row2_col2, #T_6f5f2_row2_col3, #T_6f5f2_row3_col0, #T_6f5f2_row3_col1, #T_6f5f2_row3_col2, #T_6f5f2_row3_col3 {\n",
       "  text-align: center;\n",
       "  font-size: 11px;\n",
       "}\n",
       "</style>\n",
       "<table id=\"T_6f5f2\" border=\"1\">\n",
       "  <caption>Matrice des distances</caption>\n",
       "  <thead>\n",
       "    <tr>\n",
       "      <th class=\"blank level0\" >&nbsp;</th>\n",
       "      <th id=\"T_6f5f2_level0_col0\" class=\"col_heading level0 col0\" >e1</th>\n",
       "      <th id=\"T_6f5f2_level0_col1\" class=\"col_heading level0 col1\" >e2-e5</th>\n",
       "      <th id=\"T_6f5f2_level0_col2\" class=\"col_heading level0 col2\" >e3</th>\n",
       "      <th id=\"T_6f5f2_level0_col3\" class=\"col_heading level0 col3\" >e4</th>\n",
       "    </tr>\n",
       "  </thead>\n",
       "  <tbody>\n",
       "    <tr>\n",
       "      <th id=\"T_6f5f2_level0_row0\" class=\"row_heading level0 row0\" >e1</th>\n",
       "      <td id=\"T_6f5f2_row0_col0\" class=\"data row0 col0\" >0.000000</td>\n",
       "      <td id=\"T_6f5f2_row0_col1\" class=\"data row0 col1\" >0.471405</td>\n",
       "      <td id=\"T_6f5f2_row0_col2\" class=\"data row0 col2\" >1.024394</td>\n",
       "      <td id=\"T_6f5f2_row0_col3\" class=\"data row0 col3\" >0.400617</td>\n",
       "    </tr>\n",
       "    <tr>\n",
       "      <th id=\"T_6f5f2_level0_row1\" class=\"row_heading level0 row1\" >e2-e5</th>\n",
       "      <td id=\"T_6f5f2_row1_col0\" class=\"data row1 col0\" >0.471405</td>\n",
       "      <td id=\"T_6f5f2_row1_col1\" class=\"data row1 col1\" >0.000000</td>\n",
       "      <td id=\"T_6f5f2_row1_col2\" class=\"data row1 col2\" >0.372678</td>\n",
       "      <td id=\"T_6f5f2_row1_col3\" class=\"data row1 col3\" >0.867806</td>\n",
       "    </tr>\n",
       "    <tr>\n",
       "      <th id=\"T_6f5f2_level0_row2\" class=\"row_heading level0 row2\" >e3</th>\n",
       "      <td id=\"T_6f5f2_row2_col0\" class=\"data row2 col0\" >1.024394</td>\n",
       "      <td id=\"T_6f5f2_row2_col1\" class=\"data row2 col1\" >0.372678</td>\n",
       "      <td id=\"T_6f5f2_row2_col2\" class=\"data row2 col2\" >0.000000</td>\n",
       "      <td id=\"T_6f5f2_row2_col3\" class=\"data row2 col3\" >1.414214</td>\n",
       "    </tr>\n",
       "    <tr>\n",
       "      <th id=\"T_6f5f2_level0_row3\" class=\"row_heading level0 row3\" >e4</th>\n",
       "      <td id=\"T_6f5f2_row3_col0\" class=\"data row3 col0\" >0.400617</td>\n",
       "      <td id=\"T_6f5f2_row3_col1\" class=\"data row3 col1\" >0.867806</td>\n",
       "      <td id=\"T_6f5f2_row3_col2\" class=\"data row3 col2\" >1.414214</td>\n",
       "      <td id=\"T_6f5f2_row3_col3\" class=\"data row3 col3\" >0.000000</td>\n",
       "    </tr>\n",
       "  </tbody>\n",
       "</table>\n"
      ],
      "text/plain": [
       "<pandas.io.formats.style.Styler at 0x247d83858d0>"
      ]
     },
     "metadata": {},
     "output_type": "display_data"
    },
    {
     "data": {
      "text/html": [
       "<style type=\"text/css\">\n",
       "#T_a0bea th {\n",
       "  background-color: #ced4da;\n",
       "}\n",
       "#T_a0bea td:first-child {\n",
       "  background-color: #ced4da;\n",
       "}\n",
       "#T_a0bea_row0_col0, #T_a0bea_row0_col1, #T_a0bea_row0_col2, #T_a0bea_row1_col0, #T_a0bea_row1_col1, #T_a0bea_row1_col2, #T_a0bea_row2_col0, #T_a0bea_row2_col1, #T_a0bea_row2_col2 {\n",
       "  text-align: center;\n",
       "  font-size: 11px;\n",
       "}\n",
       "</style>\n",
       "<table id=\"T_a0bea\" border=\"1\">\n",
       "  <caption>Matrice des distances</caption>\n",
       "  <thead>\n",
       "    <tr>\n",
       "      <th class=\"blank level0\" >&nbsp;</th>\n",
       "      <th id=\"T_a0bea_level0_col0\" class=\"col_heading level0 col0\" >e1</th>\n",
       "      <th id=\"T_a0bea_level0_col1\" class=\"col_heading level0 col1\" >e2-e5-e3</th>\n",
       "      <th id=\"T_a0bea_level0_col2\" class=\"col_heading level0 col2\" >e4</th>\n",
       "    </tr>\n",
       "  </thead>\n",
       "  <tbody>\n",
       "    <tr>\n",
       "      <th id=\"T_a0bea_level0_row0\" class=\"row_heading level0 row0\" >e1</th>\n",
       "      <td id=\"T_a0bea_row0_col0\" class=\"data row0 col0\" >0.000000</td>\n",
       "      <td id=\"T_a0bea_row0_col1\" class=\"data row0 col1\" >0.471405</td>\n",
       "      <td id=\"T_a0bea_row0_col2\" class=\"data row0 col2\" >0.400617</td>\n",
       "    </tr>\n",
       "    <tr>\n",
       "      <th id=\"T_a0bea_level0_row1\" class=\"row_heading level0 row1\" >e2-e5-e3</th>\n",
       "      <td id=\"T_a0bea_row1_col0\" class=\"data row1 col0\" >0.471405</td>\n",
       "      <td id=\"T_a0bea_row1_col1\" class=\"data row1 col1\" >0.000000</td>\n",
       "      <td id=\"T_a0bea_row1_col2\" class=\"data row1 col2\" >0.867806</td>\n",
       "    </tr>\n",
       "    <tr>\n",
       "      <th id=\"T_a0bea_level0_row2\" class=\"row_heading level0 row2\" >e4</th>\n",
       "      <td id=\"T_a0bea_row2_col0\" class=\"data row2 col0\" >0.400617</td>\n",
       "      <td id=\"T_a0bea_row2_col1\" class=\"data row2 col1\" >0.867806</td>\n",
       "      <td id=\"T_a0bea_row2_col2\" class=\"data row2 col2\" >0.000000</td>\n",
       "    </tr>\n",
       "  </tbody>\n",
       "</table>\n"
      ],
      "text/plain": [
       "<pandas.io.formats.style.Styler at 0x247d8385450>"
      ]
     },
     "metadata": {},
     "output_type": "display_data"
    },
    {
     "data": {
      "text/html": [
       "<style type=\"text/css\">\n",
       "#T_6ffef th {\n",
       "  background-color: #ced4da;\n",
       "}\n",
       "#T_6ffef td:first-child {\n",
       "  background-color: #ced4da;\n",
       "}\n",
       "#T_6ffef_row0_col0, #T_6ffef_row0_col1, #T_6ffef_row1_col0, #T_6ffef_row1_col1 {\n",
       "  text-align: center;\n",
       "  font-size: 11px;\n",
       "}\n",
       "</style>\n",
       "<table id=\"T_6ffef\" border=\"1\">\n",
       "  <caption>Matrice des distances</caption>\n",
       "  <thead>\n",
       "    <tr>\n",
       "      <th class=\"blank level0\" >&nbsp;</th>\n",
       "      <th id=\"T_6ffef_level0_col0\" class=\"col_heading level0 col0\" >e1-e4</th>\n",
       "      <th id=\"T_6ffef_level0_col1\" class=\"col_heading level0 col1\" >e2-e5-e3</th>\n",
       "    </tr>\n",
       "  </thead>\n",
       "  <tbody>\n",
       "    <tr>\n",
       "      <th id=\"T_6ffef_level0_row0\" class=\"row_heading level0 row0\" >e1-e4</th>\n",
       "      <td id=\"T_6ffef_row0_col0\" class=\"data row0 col0\" >0.000000</td>\n",
       "      <td id=\"T_6ffef_row0_col1\" class=\"data row0 col1\" >0.471405</td>\n",
       "    </tr>\n",
       "    <tr>\n",
       "      <th id=\"T_6ffef_level0_row1\" class=\"row_heading level0 row1\" >e2-e5-e3</th>\n",
       "      <td id=\"T_6ffef_row1_col0\" class=\"data row1 col0\" >0.471405</td>\n",
       "      <td id=\"T_6ffef_row1_col1\" class=\"data row1 col1\" >0.000000</td>\n",
       "    </tr>\n",
       "  </tbody>\n",
       "</table>\n"
      ],
      "text/plain": [
       "<pandas.io.formats.style.Styler at 0x247d83876d0>"
      ]
     },
     "metadata": {},
     "output_type": "display_data"
    }
   ],
   "source": [
    "agnes(df,2)"
   ]
  },
  {
   "cell_type": "code",
   "execution_count": null,
   "id": "35ffa9e4-0eca-406a-b63d-6db04e48866f",
   "metadata": {},
   "outputs": [],
   "source": []
  }
 ],
 "metadata": {
  "kernelspec": {
   "display_name": "Python 3 (ipykernel)",
   "language": "python",
   "name": "python3"
  },
  "language_info": {
   "codemirror_mode": {
    "name": "ipython",
    "version": 3
   },
   "file_extension": ".py",
   "mimetype": "text/x-python",
   "name": "python",
   "nbconvert_exporter": "python",
   "pygments_lexer": "ipython3",
   "version": "3.11.5"
  }
 },
 "nbformat": 4,
 "nbformat_minor": 5
}
